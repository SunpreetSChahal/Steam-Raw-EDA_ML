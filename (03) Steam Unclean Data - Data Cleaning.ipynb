{
 "cells": [
  {
   "cell_type": "markdown",
   "metadata": {},
   "source": [
    "## Data Cleaning\n",
    "\n",
    "This dataset is quite uncleand and unusable in its current state.\n",
    "\n",
    "This notebook will be used to clean the data and to annotate my progress (for future reference), then to do the EDA and a recommendation system within a new notebook.\n",
    "\n",
    "### ** REMEMBER TO EXTRACT CODE INTO AN IDE TO GET A .py SCRIPT **\n",
    "#### Ask Shanghua what's the best way to do this\n"
   ]
  },
  {
   "cell_type": "code",
   "execution_count": 151,
   "metadata": {},
   "outputs": [],
   "source": [
    "# Data manipulation & cleaning\n",
    "## Since we're just cleaning, we won't require many libraries\n",
    "import pandas as pd\n",
    "import numpy as np"
   ]
  },
  {
   "cell_type": "code",
   "execution_count": 162,
   "metadata": {},
   "outputs": [],
   "source": [
    "# Import data\n",
    "df = pd.read_csv(r\"C:\\Users\\ssc44611\\Documents\\L4 Projects\\4. Stean Store (Personal Proj) - EDA & ML\\steam_app_data.csv\")\n",
    "df_copy1 = df.copy()\n",
    "df_copy2 = df.copy()"
   ]
  },
  {
   "cell_type": "code",
   "execution_count": 173,
   "metadata": {},
   "outputs": [],
   "source": [
    "# Saving a smaller, snipped dataset - to visualise the unclean data on github (Original dataset is too large)\n",
    "df_copy_newsave = df.copy()\n",
    "df_copy_newsave = df_copy_newsave.head(50)\n",
    "df_copy_newsave.to_csv(r\"C:\\Users\\ssc44611\\Documents\\L4 Projects\\2. Steam (Personal Proj) - EDA & ML\\steam_app_data_PREVIEW\")\n",
    "## Original = 286,616 KB / 286.616 MB ✗\n",
    "## Preview (New) = 404 KB / 0.404 MB ✓\n",
    "### GitHub Minimum = 25 MB "
   ]
  },
  {
   "cell_type": "code",
   "execution_count": 154,
   "metadata": {},
   "outputs": [
    {
     "data": {
      "text/html": [
       "<div>\n",
       "<style scoped>\n",
       "    .dataframe tbody tr th:only-of-type {\n",
       "        vertical-align: middle;\n",
       "    }\n",
       "\n",
       "    .dataframe tbody tr th {\n",
       "        vertical-align: top;\n",
       "    }\n",
       "\n",
       "    .dataframe thead th {\n",
       "        text-align: right;\n",
       "    }\n",
       "</style>\n",
       "<table border=\"1\" class=\"dataframe\">\n",
       "  <thead>\n",
       "    <tr style=\"text-align: right;\">\n",
       "      <th></th>\n",
       "      <th>type</th>\n",
       "      <th>name</th>\n",
       "      <th>steam_appid</th>\n",
       "      <th>required_age</th>\n",
       "      <th>is_free</th>\n",
       "      <th>controller_support</th>\n",
       "      <th>dlc</th>\n",
       "      <th>detailed_description</th>\n",
       "      <th>about_the_game</th>\n",
       "      <th>short_description</th>\n",
       "      <th>...</th>\n",
       "      <th>categories</th>\n",
       "      <th>genres</th>\n",
       "      <th>screenshots</th>\n",
       "      <th>movies</th>\n",
       "      <th>recommendations</th>\n",
       "      <th>achievements</th>\n",
       "      <th>release_date</th>\n",
       "      <th>support_info</th>\n",
       "      <th>background</th>\n",
       "      <th>content_descriptors</th>\n",
       "    </tr>\n",
       "  </thead>\n",
       "  <tbody>\n",
       "    <tr>\n",
       "      <th>0</th>\n",
       "      <td>game</td>\n",
       "      <td>Counter-Strike</td>\n",
       "      <td>10</td>\n",
       "      <td>0.0</td>\n",
       "      <td>False</td>\n",
       "      <td>NaN</td>\n",
       "      <td>NaN</td>\n",
       "      <td>Play the world's number 1 online action game. ...</td>\n",
       "      <td>Play the world's number 1 online action game. ...</td>\n",
       "      <td>Play the world's number 1 online action game. ...</td>\n",
       "      <td>...</td>\n",
       "      <td>[{'id': 1, 'description': 'Multi-player'}, {'i...</td>\n",
       "      <td>[{'id': '1', 'description': 'Action'}]</td>\n",
       "      <td>[{'id': 0, 'path_thumbnail': 'https://steamcdn...</td>\n",
       "      <td>NaN</td>\n",
       "      <td>{'total': 65735}</td>\n",
       "      <td>{'total': 0}</td>\n",
       "      <td>{'coming_soon': False, 'date': '1 Nov, 2000'}</td>\n",
       "      <td>{'url': 'http://steamcommunity.com/app/10', 'e...</td>\n",
       "      <td>https://steamcdn-a.akamaihd.net/steam/apps/10/...</td>\n",
       "      <td>{'ids': [2, 5], 'notes': 'Includes intense vio...</td>\n",
       "    </tr>\n",
       "    <tr>\n",
       "      <th>1</th>\n",
       "      <td>game</td>\n",
       "      <td>Team Fortress Classic</td>\n",
       "      <td>20</td>\n",
       "      <td>0.0</td>\n",
       "      <td>False</td>\n",
       "      <td>NaN</td>\n",
       "      <td>NaN</td>\n",
       "      <td>One of the most popular online action games of...</td>\n",
       "      <td>One of the most popular online action games of...</td>\n",
       "      <td>One of the most popular online action games of...</td>\n",
       "      <td>...</td>\n",
       "      <td>[{'id': 1, 'description': 'Multi-player'}, {'i...</td>\n",
       "      <td>[{'id': '1', 'description': 'Action'}]</td>\n",
       "      <td>[{'id': 0, 'path_thumbnail': 'https://steamcdn...</td>\n",
       "      <td>NaN</td>\n",
       "      <td>{'total': 2802}</td>\n",
       "      <td>{'total': 0}</td>\n",
       "      <td>{'coming_soon': False, 'date': '1 Apr, 1999'}</td>\n",
       "      <td>{'url': '', 'email': ''}</td>\n",
       "      <td>https://steamcdn-a.akamaihd.net/steam/apps/20/...</td>\n",
       "      <td>{'ids': [2, 5], 'notes': 'Includes intense vio...</td>\n",
       "    </tr>\n",
       "  </tbody>\n",
       "</table>\n",
       "<p>2 rows × 39 columns</p>\n",
       "</div>"
      ],
      "text/plain": [
       "   type                   name  steam_appid  required_age is_free  \\\n",
       "0  game         Counter-Strike           10           0.0   False   \n",
       "1  game  Team Fortress Classic           20           0.0   False   \n",
       "\n",
       "  controller_support  dlc                               detailed_description  \\\n",
       "0                NaN  NaN  Play the world's number 1 online action game. ...   \n",
       "1                NaN  NaN  One of the most popular online action games of...   \n",
       "\n",
       "                                      about_the_game  \\\n",
       "0  Play the world's number 1 online action game. ...   \n",
       "1  One of the most popular online action games of...   \n",
       "\n",
       "                                   short_description  ...  \\\n",
       "0  Play the world's number 1 online action game. ...  ...   \n",
       "1  One of the most popular online action games of...  ...   \n",
       "\n",
       "                                          categories  \\\n",
       "0  [{'id': 1, 'description': 'Multi-player'}, {'i...   \n",
       "1  [{'id': 1, 'description': 'Multi-player'}, {'i...   \n",
       "\n",
       "                                   genres  \\\n",
       "0  [{'id': '1', 'description': 'Action'}]   \n",
       "1  [{'id': '1', 'description': 'Action'}]   \n",
       "\n",
       "                                         screenshots movies   recommendations  \\\n",
       "0  [{'id': 0, 'path_thumbnail': 'https://steamcdn...    NaN  {'total': 65735}   \n",
       "1  [{'id': 0, 'path_thumbnail': 'https://steamcdn...    NaN   {'total': 2802}   \n",
       "\n",
       "   achievements                                   release_date  \\\n",
       "0  {'total': 0}  {'coming_soon': False, 'date': '1 Nov, 2000'}   \n",
       "1  {'total': 0}  {'coming_soon': False, 'date': '1 Apr, 1999'}   \n",
       "\n",
       "                                        support_info  \\\n",
       "0  {'url': 'http://steamcommunity.com/app/10', 'e...   \n",
       "1                           {'url': '', 'email': ''}   \n",
       "\n",
       "                                          background  \\\n",
       "0  https://steamcdn-a.akamaihd.net/steam/apps/10/...   \n",
       "1  https://steamcdn-a.akamaihd.net/steam/apps/20/...   \n",
       "\n",
       "                                 content_descriptors  \n",
       "0  {'ids': [2, 5], 'notes': 'Includes intense vio...  \n",
       "1  {'ids': [2, 5], 'notes': 'Includes intense vio...  \n",
       "\n",
       "[2 rows x 39 columns]"
      ]
     },
     "execution_count": 154,
     "metadata": {},
     "output_type": "execute_result"
    }
   ],
   "source": [
    "df.head(2)"
   ]
  },
  {
   "cell_type": "code",
   "execution_count": 164,
   "metadata": {},
   "outputs": [
    {
     "name": "stdout",
     "output_type": "stream",
     "text": [
      "There are 29235 rows\n",
      "There are 39 columns\n"
     ]
    }
   ],
   "source": [
    "# Printing count of rows & columns\n",
    "print(f\"There are {df.shape[0]} rows\")\n",
    "print(f\"There are {df.shape[1]} columns\")"
   ]
  },
  {
   "cell_type": "markdown",
   "metadata": {},
   "source": [
    "### Data Cleaning - Initial Processing\n",
    "\n",
    "This section of the cleaning process will focus on the overall dataset - iterating through the columns. \n",
    "\n",
    "As we progress into the data cleansing, we will look at the dataset in a more microscopic view."
   ]
  },
  {
   "cell_type": "code",
   "execution_count": 157,
   "metadata": {
    "scrolled": true
   },
   "outputs": [
    {
     "data": {
      "text/plain": [
       "type                         149\n",
       "name                           1\n",
       "steam_appid                    0\n",
       "required_age                 149\n",
       "is_free                      149\n",
       "controller_support         23237\n",
       "dlc                        24260\n",
       "detailed_description         175\n",
       "about_the_game               175\n",
       "short_description            175\n",
       "fullgame                   29235\n",
       "supported_languages          163\n",
       "header_image                 149\n",
       "website                     9983\n",
       "pc_requirements              149\n",
       "mac_requirements             149\n",
       "linux_requirements           149\n",
       "legal_notice               19168\n",
       "drm_notice                 29077\n",
       "ext_user_account_notice    28723\n",
       "developers                   264\n",
       "publishers                   149\n",
       "demos                      27096\n",
       "price_overview              3712\n",
       "packages                    3370\n",
       "package_groups               149\n",
       "platforms                    149\n",
       "metacritic                 26254\n",
       "reviews                    23330\n",
       "categories                   714\n",
       "genres                       196\n",
       "screenshots                  177\n",
       "movies                      2078\n",
       "recommendations            22507\n",
       "achievements                2381\n",
       "release_date                 149\n",
       "support_info                 149\n",
       "background                   177\n",
       "content_descriptors          149\n",
       "dtype: int64"
      ]
     },
     "execution_count": 157,
     "metadata": {},
     "output_type": "execute_result"
    }
   ],
   "source": [
    "# Printing null values for each column\n",
    "na_count = df.isnull().sum()\n",
    "na_count"
   ]
  },
  {
   "cell_type": "code",
   "execution_count": 159,
   "metadata": {},
   "outputs": [
    {
     "data": {
      "text/html": [
       "<div>\n",
       "<style scoped>\n",
       "    .dataframe tbody tr th:only-of-type {\n",
       "        vertical-align: middle;\n",
       "    }\n",
       "\n",
       "    .dataframe tbody tr th {\n",
       "        vertical-align: top;\n",
       "    }\n",
       "\n",
       "    .dataframe thead th {\n",
       "        text-align: right;\n",
       "    }\n",
       "</style>\n",
       "<table border=\"1\" class=\"dataframe\">\n",
       "  <thead>\n",
       "    <tr style=\"text-align: right;\">\n",
       "      <th></th>\n",
       "      <th>type</th>\n",
       "      <th>name</th>\n",
       "      <th>steam_appid</th>\n",
       "      <th>required_age</th>\n",
       "      <th>is_free</th>\n",
       "      <th>controller_support</th>\n",
       "      <th>dlc</th>\n",
       "      <th>detailed_description</th>\n",
       "      <th>about_the_game</th>\n",
       "      <th>short_description</th>\n",
       "      <th>...</th>\n",
       "      <th>categories</th>\n",
       "      <th>genres</th>\n",
       "      <th>screenshots</th>\n",
       "      <th>movies</th>\n",
       "      <th>recommendations</th>\n",
       "      <th>achievements</th>\n",
       "      <th>release_date</th>\n",
       "      <th>support_info</th>\n",
       "      <th>background</th>\n",
       "      <th>content_descriptors</th>\n",
       "    </tr>\n",
       "  </thead>\n",
       "  <tbody>\n",
       "  </tbody>\n",
       "</table>\n",
       "<p>0 rows × 39 columns</p>\n",
       "</div>"
      ],
      "text/plain": [
       "Empty DataFrame\n",
       "Columns: [type, name, steam_appid, required_age, is_free, controller_support, dlc, detailed_description, about_the_game, short_description, fullgame, supported_languages, header_image, website, pc_requirements, mac_requirements, linux_requirements, legal_notice, drm_notice, ext_user_account_notice, developers, publishers, demos, price_overview, packages, package_groups, platforms, metacritic, reviews, categories, genres, screenshots, movies, recommendations, achievements, release_date, support_info, background, content_descriptors]\n",
       "Index: []\n",
       "\n",
       "[0 rows x 39 columns]"
      ]
     },
     "execution_count": 159,
     "metadata": {},
     "output_type": "execute_result"
    }
   ],
   "source": [
    "df_nona = df_copy1.dropna()\n",
    "df_nona"
   ]
  },
  {
   "cell_type": "markdown",
   "metadata": {},
   "source": [
    "Dropping the null rows without actually looking a little deeper, will mean we just of the entire dataset. \n",
    "\n",
    "Since there's a significant amount of null values - essentially a null value for every row - we will have to create a specific criteria of the data with wish to remove\n",
    "\n",
    "We will look to drop any columns that contain 50% or more null values, relative to the total row count. "
   ]
  },
  {
   "cell_type": "code",
   "execution_count": 108,
   "metadata": {},
   "outputs": [
    {
     "name": "stdout",
     "output_type": "stream",
     "text": [
      "We will need to drop columns with (>=) 14617 null values\n"
     ]
    }
   ],
   "source": [
    "# Finding columns with >= 50% null values\n",
    "value_threshold = df.shape[0] // 2 # 50% of total row count, if a columns has greater null values than 50%, we will drop it\n",
    "\n",
    "print(f\"We will need to drop columns with (>=) {value_threshold} null values\") # Printing our column drop criteria"
   ]
  },
  {
   "cell_type": "code",
   "execution_count": 168,
   "metadata": {},
   "outputs": [
    {
     "name": "stdout",
     "output_type": "stream",
     "text": [
      "We will need to drop: ['controller_support', 'dlc', 'fullgame', 'legal_notice', 'drm_notice', 'ext_user_account_notice', 'demos', 'metacritic', 'reviews', 'recommendations'] - (10 columns).\n"
     ]
    }
   ],
   "source": [
    "# Looking at what columns we need to drop \n",
    "drop_cols = df.columns[na_count >= value_threshold] # Get the columns that have (null value count >= 50% of total row count)\n",
    "\n",
    "print(f\"We will need to drop: {list(drop_rows)} - (10 columns).\") # Printing what columns we need to mention when dropping.\n"
   ]
  },
  {
   "cell_type": "code",
   "execution_count": 172,
   "metadata": {},
   "outputs": [
    {
     "name": "stdout",
     "output_type": "stream",
     "text": [
      "game    29086\n",
      "NaN       149\n",
      "Name: type, dtype: int64\n",
      "---------------------------\n",
      "Amount of rows to drop: 149\n",
      "---------------------------\n"
     ]
    },
    {
     "data": {
      "text/html": [
       "<div>\n",
       "<style scoped>\n",
       "    .dataframe tbody tr th:only-of-type {\n",
       "        vertical-align: middle;\n",
       "    }\n",
       "\n",
       "    .dataframe tbody tr th {\n",
       "        vertical-align: top;\n",
       "    }\n",
       "\n",
       "    .dataframe thead th {\n",
       "        text-align: right;\n",
       "    }\n",
       "</style>\n",
       "<table border=\"1\" class=\"dataframe\">\n",
       "  <thead>\n",
       "    <tr style=\"text-align: right;\">\n",
       "      <th></th>\n",
       "      <th>type</th>\n",
       "      <th>name</th>\n",
       "      <th>steam_appid</th>\n",
       "      <th>required_age</th>\n",
       "      <th>is_free</th>\n",
       "      <th>controller_support</th>\n",
       "      <th>dlc</th>\n",
       "      <th>detailed_description</th>\n",
       "      <th>about_the_game</th>\n",
       "      <th>short_description</th>\n",
       "      <th>...</th>\n",
       "      <th>categories</th>\n",
       "      <th>genres</th>\n",
       "      <th>screenshots</th>\n",
       "      <th>movies</th>\n",
       "      <th>recommendations</th>\n",
       "      <th>achievements</th>\n",
       "      <th>release_date</th>\n",
       "      <th>support_info</th>\n",
       "      <th>background</th>\n",
       "      <th>content_descriptors</th>\n",
       "    </tr>\n",
       "  </thead>\n",
       "  <tbody>\n",
       "    <tr>\n",
       "      <th>26</th>\n",
       "      <td>NaN</td>\n",
       "      <td>Half-Life: Opposing Force</td>\n",
       "      <td>852</td>\n",
       "      <td>NaN</td>\n",
       "      <td>NaN</td>\n",
       "      <td>NaN</td>\n",
       "      <td>NaN</td>\n",
       "      <td>NaN</td>\n",
       "      <td>NaN</td>\n",
       "      <td>NaN</td>\n",
       "      <td>...</td>\n",
       "      <td>NaN</td>\n",
       "      <td>NaN</td>\n",
       "      <td>NaN</td>\n",
       "      <td>NaN</td>\n",
       "      <td>NaN</td>\n",
       "      <td>NaN</td>\n",
       "      <td>NaN</td>\n",
       "      <td>NaN</td>\n",
       "      <td>NaN</td>\n",
       "      <td>NaN</td>\n",
       "    </tr>\n",
       "    <tr>\n",
       "      <th>147</th>\n",
       "      <td>NaN</td>\n",
       "      <td>Half-Life: Opposing Force</td>\n",
       "      <td>4330</td>\n",
       "      <td>NaN</td>\n",
       "      <td>NaN</td>\n",
       "      <td>NaN</td>\n",
       "      <td>NaN</td>\n",
       "      <td>NaN</td>\n",
       "      <td>NaN</td>\n",
       "      <td>NaN</td>\n",
       "      <td>...</td>\n",
       "      <td>NaN</td>\n",
       "      <td>NaN</td>\n",
       "      <td>NaN</td>\n",
       "      <td>NaN</td>\n",
       "      <td>NaN</td>\n",
       "      <td>NaN</td>\n",
       "      <td>NaN</td>\n",
       "      <td>NaN</td>\n",
       "      <td>NaN</td>\n",
       "      <td>NaN</td>\n",
       "    </tr>\n",
       "  </tbody>\n",
       "</table>\n",
       "<p>2 rows × 39 columns</p>\n",
       "</div>"
      ],
      "text/plain": [
       "    type                       name  steam_appid  required_age is_free  \\\n",
       "26   NaN  Half-Life: Opposing Force          852           NaN     NaN   \n",
       "147  NaN  Half-Life: Opposing Force         4330           NaN     NaN   \n",
       "\n",
       "    controller_support  dlc detailed_description about_the_game  \\\n",
       "26                 NaN  NaN                  NaN            NaN   \n",
       "147                NaN  NaN                  NaN            NaN   \n",
       "\n",
       "    short_description  ...  categories genres screenshots movies  \\\n",
       "26                NaN  ...         NaN    NaN         NaN    NaN   \n",
       "147               NaN  ...         NaN    NaN         NaN    NaN   \n",
       "\n",
       "    recommendations achievements release_date support_info background  \\\n",
       "26              NaN          NaN          NaN          NaN        NaN   \n",
       "147             NaN          NaN          NaN          NaN        NaN   \n",
       "\n",
       "    content_descriptors  \n",
       "26                  NaN  \n",
       "147                 NaN  \n",
       "\n",
       "[2 rows x 39 columns]"
      ]
     },
     "execution_count": 172,
     "metadata": {},
     "output_type": "execute_result"
    }
   ],
   "source": [
    "# Let's look at the \"Type\" columns, for any media without a \"Type\" - we can drop.\n",
    "\n",
    "print(df['type'].value_counts(dropna=False)) # Without (dropna=False), the NaN rows won't print\n",
    "\n",
    "print('---------------------------')\n",
    "print('Amount of rows to drop:', df[df['type'].isnull()].shape[0]) # Printing the amount of NaN rows to drop\n",
    "print('---------------------------')\n",
    "\n",
    "df[df['type'].isnull()].head(2) # Looking a preview of the rows with missing data"
   ]
  },
  {
   "cell_type": "markdown",
   "metadata": {},
   "source": [
    "It is important to note that these rows have no other values. So it is fine to drop them"
   ]
  },
  {
   "cell_type": "code",
   "execution_count": null,
   "metadata": {},
   "outputs": [],
   "source": []
  }
 ],
 "metadata": {
  "kernelspec": {
   "display_name": "Python 3",
   "language": "python",
   "name": "python3"
  },
  "language_info": {
   "codemirror_mode": {
    "name": "ipython",
    "version": 3
   },
   "file_extension": ".py",
   "mimetype": "text/x-python",
   "name": "python",
   "nbconvert_exporter": "python",
   "pygments_lexer": "ipython3",
   "version": "3.7.3"
  }
 },
 "nbformat": 4,
 "nbformat_minor": 2
}
